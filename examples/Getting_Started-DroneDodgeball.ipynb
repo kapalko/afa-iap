{
 "cells": [
  {
   "cell_type": "markdown",
   "metadata": {},
   "source": [
    "# Getting Started with the Air Force Arcade\n",
    "\n",
    "---\n",
    "\n",
    "In this notebook, we will introduce you to the Air Force Arcade and reinforcement learning by demonstrating some basic functionality of the environments, the basics of gym environments, and finally will train a small [Deep Q Network (DQN)](https://arxiv.org/pdf/1312.5602.pdf) to get you started."
   ]
  },
  {
   "cell_type": "markdown",
   "metadata": {},
   "source": [
    "## Step 0: About the Environment\n",
    "\n",
    "The `DroneDodgeBall` environment places a quadcopter (the drone) in an arena with a ball launcher. \n",
    "The drone must avoid the launched balls while moving towards and staying hovering on a fixed waypoint in the environment."
   ]
  },
  {
   "cell_type": "markdown",
   "metadata": {},
   "source": [
    "<img src=\"images/image5.gif\" alt=\"Drone Dodgeball\" style=\"width: 400px;\"/>"
   ]
  },
  {
   "cell_type": "markdown",
   "metadata": {},
   "source": [
    "The red circle is the waypoint were we desire the drone to remain as close as possible while remaining alive.\n",
    "\n",
    "The allowable flight boundary is a `15m x 15m x 9m` (Length x Width x Height) box.\n",
    "The quadcopter spawns at a random location within a `6m x 6m x 3m` box centered at the waypoint."
   ]
  },
  {
   "cell_type": "markdown",
   "metadata": {},
   "source": [
    "__Rewards__\n",
    "\n",
    "In the `DroneDodgeBall` environment, our rewards are a function of survival and distance to the target waypoint.\n",
    "The rewards are as follows:\n",
    "\n",
    "- reward for distance to waypoint (50Hz intervals, `x` in meters): `(1/(x+0.5)) - 0.1 clamped to the range of [0, 1]`\n",
    "- reward for survival (50Hz intervals): `0.01`\n",
    "- reward for tilting beyond 70 degrees: `-0.1`\n",
    "- reward for tilting beyond 85 degrees: `-1.0`\n",
    "- reward for being hit by a ball: `-1.0`\n",
    "- reward for exiting the game boundary: `-1.0`"
   ]
  },
  {
   "cell_type": "markdown",
   "metadata": {},
   "source": [
    "## Step 1: Start the Environment\n",
    "\n",
    "First, we will import the necessary packages."
   ]
  },
  {
   "cell_type": "code",
   "execution_count": 5,
   "metadata": {},
   "outputs": [],
   "source": [
    "import gym\n",
    "import airforce_arcade\n",
    "import numpy as np\n",
    "from collections import deque\n",
    "import torch\n",
    "import matplotlib.pyplot as plt\n",
    "%matplotlib inline"
   ]
  },
  {
   "cell_type": "markdown",
   "metadata": {},
   "source": [
    "Now we will create gym environment. In this step, we use OpenAI's [Gym](https://gym.openai.com/) API to relay the information from our game to Python so we can capture the relevant information."
   ]
  },
  {
   "cell_type": "code",
   "execution_count": 6,
   "metadata": {},
   "outputs": [
    {
     "name": "stderr",
     "output_type": "stream",
     "text": [
      "2021-06-22 12:51:17 INFO [environment.py:112] Connected to Unity environment with package version 1.0.4 and communication version 1.0.0\n",
      "2021-06-22 12:51:17 INFO [environment.py:282] Connected new brain:\n",
      "RLDroneControl?team=0\n",
      "2021-06-22 12:51:17 WARNING [gym_unity.py:91] The environment contains multiple observations. You must define allow_multiple_obs=True to receive them all. Otherwise, only the first visual observation (or vector observation ifthere are no visual observations) will be provided in the observation.\n",
      "/Users/nadeemdamanhuri/opt/anaconda3/envs/CRSP/lib/python3.8/site-packages/gym/logger.py:30: UserWarning: \u001b[33mWARN: Box bound precision lowered by casting to float32\u001b[0m\n",
      "  warnings.warn(colorize('%s: %s'%('WARN', msg % args), 'yellow'))\n"
     ]
    },
    {
     "ename": "AssertionError",
     "evalue": "",
     "output_type": "error",
     "traceback": [
      "\u001b[0;31m---------------------------------------------------------------------------\u001b[0m",
      "\u001b[0;31mAssertionError\u001b[0m                            Traceback (most recent call last)",
      "\u001b[0;32m<ipython-input-6-14e784c6b497>\u001b[0m in \u001b[0;36m<module>\u001b[0;34m\u001b[0m\n\u001b[1;32m      1\u001b[0m \u001b[0;31m# create and launch the environment\u001b[0m\u001b[0;34m\u001b[0m\u001b[0;34m\u001b[0m\u001b[0;34m\u001b[0m\u001b[0m\n\u001b[0;32m----> 2\u001b[0;31m \u001b[0menv\u001b[0m \u001b[0;34m=\u001b[0m \u001b[0mgym\u001b[0m\u001b[0;34m.\u001b[0m\u001b[0mmake\u001b[0m\u001b[0;34m(\u001b[0m\u001b[0;34m\"DroneDodgeBall-v0\"\u001b[0m\u001b[0;34m,\u001b[0m\u001b[0mworker_id\u001b[0m\u001b[0;34m=\u001b[0m\u001b[0;36m1\u001b[0m\u001b[0;34m,\u001b[0m \u001b[0mno_graphics\u001b[0m\u001b[0;34m=\u001b[0m\u001b[0;32mTrue\u001b[0m\u001b[0;34m)\u001b[0m\u001b[0;34m\u001b[0m\u001b[0;34m\u001b[0m\u001b[0m\n\u001b[0m",
      "\u001b[0;32m~/opt/anaconda3/envs/CRSP/lib/python3.8/site-packages/gym/envs/registration.py\u001b[0m in \u001b[0;36mmake\u001b[0;34m(id, **kwargs)\u001b[0m\n\u001b[1;32m    143\u001b[0m \u001b[0;34m\u001b[0m\u001b[0m\n\u001b[1;32m    144\u001b[0m \u001b[0;32mdef\u001b[0m \u001b[0mmake\u001b[0m\u001b[0;34m(\u001b[0m\u001b[0mid\u001b[0m\u001b[0;34m,\u001b[0m \u001b[0;34m**\u001b[0m\u001b[0mkwargs\u001b[0m\u001b[0;34m)\u001b[0m\u001b[0;34m:\u001b[0m\u001b[0;34m\u001b[0m\u001b[0;34m\u001b[0m\u001b[0m\n\u001b[0;32m--> 145\u001b[0;31m     \u001b[0;32mreturn\u001b[0m \u001b[0mregistry\u001b[0m\u001b[0;34m.\u001b[0m\u001b[0mmake\u001b[0m\u001b[0;34m(\u001b[0m\u001b[0mid\u001b[0m\u001b[0;34m,\u001b[0m \u001b[0;34m**\u001b[0m\u001b[0mkwargs\u001b[0m\u001b[0;34m)\u001b[0m\u001b[0;34m\u001b[0m\u001b[0;34m\u001b[0m\u001b[0m\n\u001b[0m\u001b[1;32m    146\u001b[0m \u001b[0;34m\u001b[0m\u001b[0m\n\u001b[1;32m    147\u001b[0m \u001b[0;32mdef\u001b[0m \u001b[0mspec\u001b[0m\u001b[0;34m(\u001b[0m\u001b[0mid\u001b[0m\u001b[0;34m)\u001b[0m\u001b[0;34m:\u001b[0m\u001b[0;34m\u001b[0m\u001b[0;34m\u001b[0m\u001b[0m\n",
      "\u001b[0;32m~/opt/anaconda3/envs/CRSP/lib/python3.8/site-packages/gym/envs/registration.py\u001b[0m in \u001b[0;36mmake\u001b[0;34m(self, path, **kwargs)\u001b[0m\n\u001b[1;32m     88\u001b[0m             \u001b[0mlogger\u001b[0m\u001b[0;34m.\u001b[0m\u001b[0minfo\u001b[0m\u001b[0;34m(\u001b[0m\u001b[0;34m'Making new env: %s'\u001b[0m\u001b[0;34m,\u001b[0m \u001b[0mpath\u001b[0m\u001b[0;34m)\u001b[0m\u001b[0;34m\u001b[0m\u001b[0;34m\u001b[0m\u001b[0m\n\u001b[1;32m     89\u001b[0m         \u001b[0mspec\u001b[0m \u001b[0;34m=\u001b[0m \u001b[0mself\u001b[0m\u001b[0;34m.\u001b[0m\u001b[0mspec\u001b[0m\u001b[0;34m(\u001b[0m\u001b[0mpath\u001b[0m\u001b[0;34m)\u001b[0m\u001b[0;34m\u001b[0m\u001b[0;34m\u001b[0m\u001b[0m\n\u001b[0;32m---> 90\u001b[0;31m         \u001b[0menv\u001b[0m \u001b[0;34m=\u001b[0m \u001b[0mspec\u001b[0m\u001b[0;34m.\u001b[0m\u001b[0mmake\u001b[0m\u001b[0;34m(\u001b[0m\u001b[0;34m**\u001b[0m\u001b[0mkwargs\u001b[0m\u001b[0;34m)\u001b[0m\u001b[0;34m\u001b[0m\u001b[0;34m\u001b[0m\u001b[0m\n\u001b[0m\u001b[1;32m     91\u001b[0m         \u001b[0;31m# We used to have people override _reset/_step rather than\u001b[0m\u001b[0;34m\u001b[0m\u001b[0;34m\u001b[0m\u001b[0;34m\u001b[0m\u001b[0m\n\u001b[1;32m     92\u001b[0m         \u001b[0;31m# reset/step. Set _gym_disable_underscore_compat = True on\u001b[0m\u001b[0;34m\u001b[0m\u001b[0;34m\u001b[0m\u001b[0;34m\u001b[0m\u001b[0m\n",
      "\u001b[0;32m~/opt/anaconda3/envs/CRSP/lib/python3.8/site-packages/gym/envs/registration.py\u001b[0m in \u001b[0;36mmake\u001b[0;34m(self, **kwargs)\u001b[0m\n\u001b[1;32m     58\u001b[0m         \u001b[0;32melse\u001b[0m\u001b[0;34m:\u001b[0m\u001b[0;34m\u001b[0m\u001b[0;34m\u001b[0m\u001b[0m\n\u001b[1;32m     59\u001b[0m             \u001b[0mcls\u001b[0m \u001b[0;34m=\u001b[0m \u001b[0mload\u001b[0m\u001b[0;34m(\u001b[0m\u001b[0mself\u001b[0m\u001b[0;34m.\u001b[0m\u001b[0mentry_point\u001b[0m\u001b[0;34m)\u001b[0m\u001b[0;34m\u001b[0m\u001b[0;34m\u001b[0m\u001b[0m\n\u001b[0;32m---> 60\u001b[0;31m             \u001b[0menv\u001b[0m \u001b[0;34m=\u001b[0m \u001b[0mcls\u001b[0m\u001b[0;34m(\u001b[0m\u001b[0;34m**\u001b[0m\u001b[0m_kwargs\u001b[0m\u001b[0;34m)\u001b[0m\u001b[0;34m\u001b[0m\u001b[0;34m\u001b[0m\u001b[0m\n\u001b[0m\u001b[1;32m     61\u001b[0m \u001b[0;34m\u001b[0m\u001b[0m\n\u001b[1;32m     62\u001b[0m         \u001b[0;31m# Make the environment aware of which spec it came from.\u001b[0m\u001b[0;34m\u001b[0m\u001b[0;34m\u001b[0m\u001b[0;34m\u001b[0m\u001b[0m\n",
      "\u001b[0;32m~/Desktop/CRSP/afa-iap/baselines/airforce-arcade/airforce_arcade/envs/dronedodgeball.py\u001b[0m in \u001b[0;36m__init__\u001b[0;34m(self, worker_id, seed, uint8_visual, flatten_branched, allow_multiple_obs, no_graphics, log_folder, env_build, timeout_wait, input_mode, use_held_ball, num_launchers, min_ball_launcher_force, max_ball_launcher_force, apf_human_mixing_fraction, forest_density, forest_velocity, teleporting_trees, teleport_tree_probability, logging_episode_summaries, capture_frame_buffer, capture_frame_fps, use_episode_countdown, random_seed)\u001b[0m\n\u001b[1;32m    115\u001b[0m         \u001b[0mraw_sensor_obs_shape\u001b[0m \u001b[0;34m=\u001b[0m \u001b[0;36m2\u001b[0m \u001b[0;34m*\u001b[0m \u001b[0mnp\u001b[0m\u001b[0;34m.\u001b[0m\u001b[0mprod\u001b[0m\u001b[0;34m(\u001b[0m\u001b[0mself\u001b[0m\u001b[0;34m.\u001b[0m\u001b[0m_sensor_obs_shape\u001b[0m\u001b[0;34m)\u001b[0m\u001b[0;34m\u001b[0m\u001b[0;34m\u001b[0m\u001b[0m\n\u001b[1;32m    116\u001b[0m         \u001b[0mraw_vec_obs_shape\u001b[0m \u001b[0;34m=\u001b[0m \u001b[0;36m10\u001b[0m\u001b[0;34m\u001b[0m\u001b[0;34m\u001b[0m\u001b[0m\n\u001b[0;32m--> 117\u001b[0;31m         \u001b[0;32massert\u001b[0m \u001b[0mself\u001b[0m\u001b[0;34m.\u001b[0m\u001b[0m_observation_space\u001b[0m\u001b[0;34m.\u001b[0m\u001b[0mshape\u001b[0m\u001b[0;34m[\u001b[0m\u001b[0;36m0\u001b[0m\u001b[0;34m]\u001b[0m \u001b[0;34m==\u001b[0m \u001b[0;34m(\u001b[0m\u001b[0mraw_sensor_obs_shape\u001b[0m \u001b[0;34m+\u001b[0m \u001b[0mraw_vec_obs_shape\u001b[0m\u001b[0;34m)\u001b[0m\u001b[0;34m\u001b[0m\u001b[0;34m\u001b[0m\u001b[0m\n\u001b[0m\u001b[1;32m    118\u001b[0m \u001b[0;34m\u001b[0m\u001b[0m\n\u001b[1;32m    119\u001b[0m         self._observation_space = spaces.Tuple([\n",
      "\u001b[0;31mAssertionError\u001b[0m: "
     ]
    }
   ],
   "source": [
    "# create and launch the environment\n",
    "env = gym.make(\"DroneDodgeBall-v0\",worker_id=1, no_graphics=True)"
   ]
  },
  {
   "cell_type": "markdown",
   "metadata": {},
   "source": [
    "## Step 2: Examine the State and Action Spaces of the Environment"
   ]
  },
  {
   "cell_type": "code",
   "execution_count": null,
   "metadata": {},
   "outputs": [],
   "source": [
    "# number of actions\n",
    "action_size = env.action_space\n",
    "print('Action Space:', action_size)\n",
    "\n",
    "# examine the state space \n",
    "state = env.observation_space\n",
    "print('Observations look like:', state)"
   ]
  },
  {
   "cell_type": "markdown",
   "metadata": {},
   "source": [
    "You should see a result that looks like:\n",
    "```\n",
    "Action Space: MultiDiscrete([3 3 3 3])\n",
    "States look like: Box(-inf, inf, (1254,), float32)\n",
    "```\n",
    "    \n",
    "So what does this mean?\n",
    "\n",
    "For our `DroneDodgeBall` environment, the drone has `4` different discrete actions it can take, with a zero, low, or high action for each.\n",
    "These correspond to roll, pitch, thrust, and yaw.\n",
    "\n",
    "For the state space, these are the observations that the drone receives. \n",
    "These are the inputs to your model and what your RL agent learns to recognize and take actions off of.\n",
    "In `DroneDodgeBall`, there are `1254` observations representing the drone's ray-based perception of its environment and a 6-vector of nomalized drone position and relative waypoint position."
   ]
  },
  {
   "cell_type": "markdown",
   "metadata": {},
   "source": [
    "## Step 3: Take Random Actions\n",
    "\n",
    "In this next cell, we will see how the Gym API interacts with the environment by taking random actions.\n",
    "We will also explore how to receive information from the environment that will allow us to train our agents.\n",
    "\n",
    "You should be able to view the drone's behaviors in the `DroneDodgeBall` game window.\n",
    "Since the agent will be making random movements, it will look a bit erratic."
   ]
  },
  {
   "cell_type": "code",
   "execution_count": 3,
   "metadata": {},
   "outputs": [
    {
     "ename": "NameError",
     "evalue": "name 'env' is not defined",
     "output_type": "error",
     "traceback": [
      "\u001b[0;31m---------------------------------------------------------------------------\u001b[0m",
      "\u001b[0;31mNameError\u001b[0m                                 Traceback (most recent call last)",
      "\u001b[0;32m<ipython-input-3-1e2422721e11>\u001b[0m in \u001b[0;36m<module>\u001b[0;34m\u001b[0m\n\u001b[0;32m----> 1\u001b[0;31m \u001b[0mstate\u001b[0m \u001b[0;34m=\u001b[0m \u001b[0menv\u001b[0m\u001b[0;34m.\u001b[0m\u001b[0mreset\u001b[0m\u001b[0;34m(\u001b[0m\u001b[0;34m)\u001b[0m\u001b[0;34m\u001b[0m\u001b[0;34m\u001b[0m\u001b[0m\n\u001b[0m\u001b[1;32m      2\u001b[0m \u001b[0;32mfor\u001b[0m \u001b[0mi\u001b[0m \u001b[0;32min\u001b[0m \u001b[0mrange\u001b[0m\u001b[0;34m(\u001b[0m\u001b[0;36m1000\u001b[0m\u001b[0;34m)\u001b[0m\u001b[0;34m:\u001b[0m\u001b[0;34m\u001b[0m\u001b[0;34m\u001b[0m\u001b[0m\n\u001b[1;32m      3\u001b[0m     \u001b[0maction\u001b[0m \u001b[0;34m=\u001b[0m \u001b[0menv\u001b[0m\u001b[0;34m.\u001b[0m\u001b[0maction_space\u001b[0m\u001b[0;34m.\u001b[0m\u001b[0msample\u001b[0m\u001b[0;34m(\u001b[0m\u001b[0;34m)\u001b[0m\u001b[0;34m\u001b[0m\u001b[0;34m\u001b[0m\u001b[0m\n\u001b[1;32m      4\u001b[0m     \u001b[0;31m# print('{}: {}'.format(i, action))\u001b[0m\u001b[0;34m\u001b[0m\u001b[0;34m\u001b[0m\u001b[0;34m\u001b[0m\u001b[0m\n\u001b[1;32m      5\u001b[0m     \u001b[0mnext_state\u001b[0m\u001b[0;34m,\u001b[0m \u001b[0mreward\u001b[0m\u001b[0;34m,\u001b[0m \u001b[0mdone\u001b[0m\u001b[0;34m,\u001b[0m \u001b[0minfo\u001b[0m \u001b[0;34m=\u001b[0m \u001b[0menv\u001b[0m\u001b[0;34m.\u001b[0m\u001b[0mstep\u001b[0m\u001b[0;34m(\u001b[0m\u001b[0maction\u001b[0m\u001b[0;34m)\u001b[0m\u001b[0;34m\u001b[0m\u001b[0;34m\u001b[0m\u001b[0m\n",
      "\u001b[0;31mNameError\u001b[0m: name 'env' is not defined"
     ]
    }
   ],
   "source": [
    "state = env.reset()\n",
    "for i in range(1000):\n",
    "    action = env.action_space.sample()\n",
    "    # print('{}: {}'.format(i, action))\n",
    "    next_state, reward, done, info = env.step(action)\n",
    "    if done:\n",
    "        break"
   ]
  },
  {
   "cell_type": "markdown",
   "metadata": {},
   "source": [
    "## Step 4: Train your First Model\n",
    "\n",
    "Unity can sometimes be finicky.\n",
    "If you can't get training to start, or it seems that the notebook is lagging, restart your kernel and run steps 0-2.\n",
    "\n",
    "![Kernel Restart](images/kernel_restart.png)\n",
    "\n",
    "__Note:__ These environments are advanced and will require significant training.\n",
    "The code provided demonstrates the basics of training a model but will most likely not train a highly sophisticated autonomous agent."
   ]
  },
  {
   "cell_type": "markdown",
   "metadata": {},
   "source": [
    "__Training a Deep Q-Network__\n",
    "\n",
    "This starter code runs for only 50 episodes. \n",
    "On a local computer, this can take between 5-10 minutes.\n",
    "You may notice that the agent doesn't really learn much.\n",
    "In fact, our training required several thousand training episodes to begin to learn appropriate behaviors.\n",
    "\n",
    "There are two supporting files required to run this code:\n",
    "- `dqn_agent.py` defines the functions of the agent, including how to select actions, take steps, and save experiences for your networks to train on\n",
    "- `model.py` is the defined architecture of the neural network. In this example, it's a small 3 layer network with 64 hidden nodes per layer.\n"
   ]
  },
  {
   "cell_type": "code",
   "execution_count": 5,
   "metadata": {},
   "outputs": [
    {
     "name": "stdout",
     "output_type": "stream",
     "text": [
      "State Size: 1254\n",
      "Action_size: 81\n",
      "Episode 10\tAverage Score: 11.56\n",
      "Episode 20\tAverage Score: 18.94\n",
      "Episode 30\tAverage Score: 16.99\n",
      "Episode 40\tAverage Score: 14.87\n",
      "Episode 50\tAverage Score: 14.10\n",
      "Episode 60\tAverage Score: 13.55\n",
      "Episode 70\tAverage Score: 13.75\n",
      "Episode 80\tAverage Score: 12.57\n",
      "Episode 90\tAverage Score: 12.04\n",
      "Episode 100\tAverage Score: 11.44\n",
      "Episode 110\tAverage Score: 11.63\n",
      "Episode 120\tAverage Score: 9.75\n",
      "Episode 130\tAverage Score: 9.27\n",
      "Episode 140\tAverage Score: 8.69\n",
      "Episode 150\tAverage Score: 9.12\n",
      "Episode 160\tAverage Score: 8.55\n",
      "Episode 170\tAverage Score: 7.83\n",
      "Episode 180\tAverage Score: 9.21\n",
      "Episode 190\tAverage Score: 10.36\n",
      "Episode 200\tAverage Score: 10.59\n",
      "Episode 210\tAverage Score: 9.65\n",
      "Episode 220\tAverage Score: 10.26\n",
      "Episode 230\tAverage Score: 10.95\n",
      "Episode 240\tAverage Score: 11.20\n",
      "Episode 250\tAverage Score: 10.67\n",
      "Episode 260\tAverage Score: 10.60\n",
      "Episode 270\tAverage Score: 10.82\n",
      "Episode 280\tAverage Score: 9.53\n",
      "Episode 290\tAverage Score: 8.44\n",
      "Episode 300\tAverage Score: 8.10\n",
      "Episode 310\tAverage Score: 8.64\n",
      "Episode 320\tAverage Score: 8.74\n",
      "Episode 330\tAverage Score: 8.17\n",
      "Episode 340\tAverage Score: 7.97\n",
      "Episode 350\tAverage Score: 7.95\n",
      "Episode 360\tAverage Score: 8.26\n",
      "Episode 370\tAverage Score: 7.84\n",
      "Episode 380\tAverage Score: 8.16\n",
      "Episode 390\tAverage Score: 8.09\n",
      "Episode 400\tAverage Score: 8.19\n",
      "Episode 410\tAverage Score: 8.06\n",
      "Episode 420\tAverage Score: 7.36\n",
      "Episode 430\tAverage Score: 7.68\n",
      "Episode 440\tAverage Score: 7.83\n",
      "Episode 450\tAverage Score: 8.79\n",
      "Episode 460\tAverage Score: 8.47\n",
      "Episode 470\tAverage Score: 8.93\n",
      "Episode 480\tAverage Score: 9.27\n",
      "Episode 490\tAverage Score: 9.01\n",
      "Episode 500\tAverage Score: 8.76\n"
     ]
    },
    {
     "data": {
      "image/png": "[encoded data removed]",
      "text/plain": [
       "<Figure size 432x288 with 1 Axes>"
      ]
     },
     "metadata": {
      "needs_background": "light"
     },
     "output_type": "display_data"
    }
   ],
   "source": [
    "from dqn_agent import Agent\n",
    "agent = Agent(state_size=1254, action_size=81, seed=42)\n",
    "\n",
    "def dqn(n_episodes=500, max_t=10000, eps_start=1.0, eps_end=0.01, eps_decay=0.999):\n",
    "    \"\"\"Deep Q-Learning.\n",
    "    \n",
    "    Params\n",
    "    ======\n",
    "        n_episodes (int): maximum number of training episodes\n",
    "        max_t (int): maximum number of timesteps per episode\n",
    "        eps_start (float): starting value of epsilon, for epsilon-greedy action selection\n",
    "        eps_end (float): minimum value of epsilon\n",
    "        eps_decay (float): multiplicative factor (per episode) for decreasing epsilon\n",
    "    \"\"\"\n",
    "    scores = []                        # list containing scores from each episode\n",
    "    scores_window = deque(maxlen=100)  # last 100 scores\n",
    "    eps = eps_start                    # initialize epsilon\n",
    "    for i_episode in range(1, n_episodes+1):\n",
    "        state = env.reset()\n",
    "        score = 0\n",
    "        for t in range(max_t):\n",
    "            action = agent.act(state, eps)\n",
    "            action_map = agent.act_map[action]  # we map our return from a single value to our multidiscrete action\n",
    "            next_state, reward, done, info = env.step(action_map)\n",
    "            agent.step(state, action, reward, next_state, done)\n",
    "            state = next_state\n",
    "            score += reward\n",
    "            if done:\n",
    "                break \n",
    "        scores_window.append(score)       # save most recent score\n",
    "        scores.append(score)              # save most recent score\n",
    "        eps = max(eps_end, eps_decay*eps) # decrease epsilon\n",
    "#         print('\\rEpisode {}\\tAverage Score: {:.2f}\\n'.format(i_episode, np.mean(scores_window)), end=\"\")\n",
    "        if i_episode % 10 == 0:\n",
    "            print('\\rEpisode {}\\tAverage Score: {:.2f}'.format(i_episode, np.mean(scores_window)))\n",
    "    return scores\n",
    "\n",
    "scores = dqn()\n",
    "\n",
    "# plot the scores\n",
    "fig = plt.figure()\n",
    "ax = fig.add_subplot(111)\n",
    "plt.plot(np.arange(len(scores)), scores)\n",
    "plt.ylabel('Score')\n",
    "plt.xlabel('Episode #')\n",
    "plt.show()"
   ]
  },
  {
   "cell_type": "code",
   "execution_count": null,
   "metadata": {},
   "outputs": [],
   "source": [
    "## You can watch how your agent performs here\n",
    "## Just ensure your environment is set to no_graphics=False\n",
    "\n",
    "scores = []\n",
    "n_test_episodes = 5\n",
    "for i in range(n_test_episodes):\n",
    "    state = env.reset()\n",
    "    score = 0\n",
    "    done = False\n",
    "    while not done:\n",
    "        action = agent.act(state)\n",
    "        state, reward, done, _ = env.step(agent.act_map[action])\n",
    "        score += reward\n",
    "    scores.append(score)\n",
    "\n",
    "print('Average score over {} episodes is: {}'.format(n_test_episodes, round(sum(scores)/n_test_episodes, 2)))"
   ]
  },
  {
   "cell_type": "code",
   "execution_count": 6,
   "metadata": {},
   "outputs": [
    {
     "name": "stderr",
     "output_type": "stream",
     "text": [
      "2021-06-08 16:09:29 INFO [environment.py:404] Environment shut down with return code 0.\n"
     ]
    }
   ],
   "source": [
    "env.close()"
   ]
  },
  {
   "cell_type": "markdown",
   "metadata": {},
   "source": [
    "## Concluding Thoughts\n",
    "\n",
    "To train a well performing model, we most likely need to increase the number of episodes, `n_episodes`, and also increase the number of layers and nodes within each.\n",
    "Furthermore, while DQN was one of the first deep RL algorithms to solve Atari, several advances in the field of RL have developed novel algorithms that outperform DQN.\n",
    "Several of these algorithms are already tailored for use within the RLlib package.\n",
    "\n",
    "`DroneDodgeBall` is a complex environment and will take significant time to solve.\n",
    "Do not be discouraged if you are not getting good training results in a short period of time.\n",
    "\n",
    "Below is an example of a larger model training for a longer period of time."
   ]
  },
  {
   "cell_type": "markdown",
   "metadata": {},
   "source": [
    "__Example Results of a Well Trained Model__\n",
    "\n",
    "The following graph is a training log of a policy-based agent trained over 8 million steps (~60,000 episodes).\n",
    "This training took about 16 hours on the MIT supercomputer.\n",
    "\n",
    "![ray_learned](images/ray_learned.png)\n",
    "\n",
    "It is important to remember that reinforcement learning alogrithms can take an extremely long time to train.\n",
    "DeepMind AlphaStar, one of the most advanced RL algorithms that learned to play Starcraft, took over 46 years worth of training time on TPUv3s, some of the most powerful processors on the planet."
   ]
  },
  {
   "cell_type": "code",
   "execution_count": null,
   "metadata": {},
   "outputs": [],
   "source": []
  }
 ],
 "metadata": {
  "kernelspec": {
   "display_name": "iap_afa",
   "language": "python",
   "name": "iap_afa"
  },
  "language_info": {
   "codemirror_mode": {
    "name": "ipython",
    "version": 3
   },
   "file_extension": ".py",
   "mimetype": "text/x-python",
   "name": "python",
   "nbconvert_exporter": "python",
   "pygments_lexer": "ipython3",
   "version": "3.8.5"
  }
 },
 "nbformat": 4,
 "nbformat_minor": 4
}
