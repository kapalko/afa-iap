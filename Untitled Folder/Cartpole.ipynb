{
 "cells": [
  {
   "cell_type": "markdown",
   "metadata": {},
   "source": [
    "# Getting Started with the Air Force Arcade\n",
    "\n",
    "---\n",
    "\n",
    "In this notebook, we will introduce you to the Air Force Arcade and reinforcement learning by demonstrating some basic functionality of the environments, the basics of gym environments, and finally will train a small [Deep Q Network (DQN)](https://arxiv.org/pdf/1312.5602.pdf) to get you started."
   ]
  },
  {
   "cell_type": "markdown",
   "metadata": {},
   "source": [
    "## Step 0: About the Environment\n",
    "\n",
    "The `Aerial Refuelling` environment places a quadcopter (the drone) in an arena with a ball launcher. \n",
    "The drone must avoid the launched balls while moving towards and staying hovering on a fixed waypoint in the environment."
   ]
  },
  {
   "cell_type": "markdown",
   "metadata": {},
   "source": []
  },
  {
   "cell_type": "markdown",
   "metadata": {},
   "source": []
  },
  {
   "cell_type": "markdown",
   "metadata": {},
   "source": [
    "__Rewards__\n",
    "\n"
   ]
  },
  {
   "cell_type": "markdown",
   "metadata": {},
   "source": [
    "## Step 1: Start the Environment\n",
    "\n",
    "First, we will import the necessary packages."
   ]
  },
  {
   "cell_type": "code",
   "execution_count": 1,
   "metadata": {},
   "outputs": [],
   "source": [
    "import gym\n",
    "import airforce_arcade\n",
    "import numpy as np\n",
    "from collections import deque\n",
    "import torch\n",
    "import matplotlib.pyplot as plt\n",
    "import datetime\n",
    "import copy\n",
    "from torch.autograd import Variable\n",
    "import random\n",
    "from PIL import Image\n",
    "from IPython.display import clear_output\n",
    "import math\n",
    "import time\n",
    "from gym.spaces import Dict, Discrete, Box, Tuple\n",
    "%matplotlib inline\n"
   ]
  },
  {
   "cell_type": "markdown",
   "metadata": {},
   "source": [
    "Now we will create gym environment. In this step, we use OpenAI's [Gym](https://gym.openai.com/) API to relay the information from our game to Python so we can capture the relevant information."
   ]
  },
  {
   "cell_type": "code",
   "execution_count": 2,
   "metadata": {},
   "outputs": [],
   "source": [
    "# create and launch the environment\n",
    "env  =  gym.make('CartPole-v1')"
   ]
  },
  {
   "cell_type": "code",
   "execution_count": null,
   "metadata": {},
   "outputs": [],
   "source": [
    "# Demonstration\n",
    "env = gym.envs.make(\"CartPole-v1\")\n",
    "\n",
    "\n",
    "def get_screen():\n",
    "    ''' Extract one step of the simulation.'''\n",
    "    screen = env.render(mode='rgb_array').transpose((2, 0, 1))\n",
    "    screen = np.ascontiguousarray(screen, dtype=np.float32) / 255.\n",
    "    return torch.from_numpy(screen)\n",
    "\n",
    "# Speify the number of simulation steps\n",
    "num_steps = 2\n",
    "\n",
    "# Show several steps\n",
    "for i in range(num_steps):\n",
    "    clear_output(wait=True)\n",
    "    env.reset()\n",
    "    plt.figure()\n",
    "    plt.imshow(get_screen().cpu().permute(1, 2, 0).numpy(),\n",
    "               interpolation='none')\n",
    "    plt.title('CartPole-v0 Environment')\n",
    "    plt.xticks([])\n",
    "    plt.yticks([])\n",
    "    plt.show()"
   ]
  },
  {
   "cell_type": "markdown",
   "metadata": {},
   "source": [
    "## Step 2: Examine the State and Action Spaces of the Environment"
   ]
  },
  {
   "cell_type": "code",
   "execution_count": 3,
   "metadata": {
    "scrolled": true
   },
   "outputs": [
    {
     "name": "stdout",
     "output_type": "stream",
     "text": [
      "Action Space: Discrete(2)\n",
      "Observations look like: Box(-3.4028234663852886e+38, 3.4028234663852886e+38, (4,), float32)\n"
     ]
    }
   ],
   "source": [
    "# number of actions\n",
    "action_size = env.action_space\n",
    "print('Action Space:', action_size)\n",
    "\n",
    "# examine the state space \n",
    "state = env.observation_space\n",
    "print('Observations look like:', state)"
   ]
  },
  {
   "cell_type": "code",
   "execution_count": null,
   "metadata": {},
   "outputs": [],
   "source": [
    "state = env.reset()\n",
    "state"
   ]
  },
  {
   "cell_type": "code",
   "execution_count": null,
   "metadata": {},
   "outputs": [],
   "source": [
    "def plot_res(values, title=''):   \n",
    "    ''' Plot the reward curve and histogram of results over time.'''\n",
    "    # Update the window after each episode\n",
    "    clear_output(wait=True)\n",
    "    \n",
    "    # Define the figure\n",
    "    f, ax = plt.subplots(nrows=1, ncols=2, figsize=(12,5))\n",
    "    f.suptitle(title)\n",
    "    ax[0].plot(values, label='score per run')\n",
    "    ax[0].axhline(195, c='red',ls='--', label='goal')\n",
    "    ax[0].set_xlabel('Episodes')\n",
    "    ax[0].set_ylabel('Reward')\n",
    "    x = range(len(values))\n",
    "    ax[0].legend()\n",
    "    # Calculate the trend\n",
    "    try:\n",
    "        z = np.polyfit(x, values, 1)\n",
    "        p = np.poly1d(z)\n",
    "        ax[0].plot(x,p(x),\"--\", label='trend')\n",
    "    except:\n",
    "        print('')\n",
    "    \n",
    "    # Plot the histogram of results\n",
    "    ax[1].hist(values[-50:])\n",
    "    ax[1].axvline(195, c='red', label='goal')\n",
    "    ax[1].set_xlabel('Scores per Last 50 Episodes')\n",
    "    ax[1].set_ylabel('Frequency')\n",
    "    ax[1].legend()\n",
    "    plt.show()"
   ]
  },
  {
   "cell_type": "code",
   "execution_count": null,
   "metadata": {},
   "outputs": [],
   "source": [
    "def random_search(env, episodes, \n",
    "                  title='Random Strategy'):\n",
    "    \"\"\" Random search strategy implementation.\"\"\"\n",
    "    final = []\n",
    "    for episode in range(episodes):\n",
    "        state = env.reset()\n",
    "        done = False\n",
    "        total = 0\n",
    "        while not done:\n",
    "            # Sample random actions\n",
    "            action = env.action_space.sample()\n",
    "            # Take action and extract results\n",
    "            next_state, reward, done, _ = env.step(action)\n",
    "            # Update reward\n",
    "            total += reward\n",
    "            if done:\n",
    "                break\n",
    "        # Add to the final reward\n",
    "        final.append(total)\n",
    "        plot_res(final,title)\n",
    "    return final"
   ]
  },
  {
   "cell_type": "markdown",
   "metadata": {},
   "source": [
    "You should see a result that looks like:\n",
    "```\n",
    "Action Space: MultiDiscrete([3 3 3 3])\n",
    "States look like: Box(-inf, inf, (1254,), float32)\n",
    "```\n",
    "    \n",
    "So what does this mean?\n",
    "\n",
    "For our `DroneDodgeBall` environment, the drone has `4` different discrete actions it can take, with a zero, low, or high action for each.\n",
    "These correspond to roll, pitch, thrust, and yaw.\n",
    "\n",
    "For the state space, these are the observations that the drone receives. \n",
    "These are the inputs to your model and what your RL agent learns to recognize and take actions off of.\n",
    "In `DroneDodgeBall`, there are `1254` observations representing the drone's ray-based perception of its environment and a 6-vector of nomalized drone position and relative waypoint position."
   ]
  },
  {
   "cell_type": "markdown",
   "metadata": {},
   "source": [
    "## Step 3: Take Random Actions\n",
    "\n",
    "In this next cell, we will see how the Gym API interacts with the environment by taking random actions.\n",
    "We will also explore how to receive information from the environment that will allow us to train our agents.\n",
    "\n",
    "You should be able to view the drone's behaviors in the `DroneDodgeBall` game window.\n",
    "Since the agent will be making random movements, it will look a bit erratic."
   ]
  },
  {
   "cell_type": "code",
   "execution_count": null,
   "metadata": {},
   "outputs": [],
   "source": [
    "random_s = random_search(env, 10000)"
   ]
  },
  {
   "cell_type": "markdown",
   "metadata": {},
   "source": [
    "## Step 4: Train your First Model\n",
    "\n",
    "Unity can sometimes be finicky.\n",
    "If you can't get training to start, or it seems that the notebook is lagging, restart your kernel and run steps 0-2.\n",
    "\n",
    "![Kernel Restart](images/kernel_restart.png)\n",
    "\n",
    "__Note:__ These environments are advanced and will require significant training.\n",
    "The code provided demonstrates the basics of training a model but will most likely not train a highly sophisticated autonomous agent."
   ]
  },
  {
   "cell_type": "markdown",
   "metadata": {},
   "source": [
    "__Training a Deep Q-Network__\n",
    "\n",
    "This starter code runs for only 50 episodes. \n",
    "On a local computer, this can take between 5-10 minutes.\n",
    "You may notice that the agent doesn't really learn much.\n",
    "In fact, our training required several thousand training episodes to begin to learn appropriate behaviors.\n",
    "\n",
    "There are two supporting files required to run this code:\n",
    "- `dqn_agent.py` defines the functions of the agent, including how to select actions, take steps, and save experiences for your networks to train on\n",
    "- `model.py` is the defined architecture of the neural network. In this example, it's a small 3 layer network with 64 hidden nodes per layer.\n"
   ]
  },
  {
   "cell_type": "code",
   "execution_count": 3,
   "metadata": {},
   "outputs": [
    {
     "name": "stdout",
     "output_type": "stream",
     "text": [
      "State Size: 4\n",
      "Action_size: 2\n",
      "Episode 10\tAverage Score: 25.90\n",
      "Episode 20\tAverage Score: 23.65\n",
      "Episode 30\tAverage Score: 22.50\n",
      "Episode 40\tAverage Score: 21.43\n",
      "Episode 50\tAverage Score: 21.90\n",
      "Episode 60\tAverage Score: 21.57\n",
      "Episode 70\tAverage Score: 20.84\n",
      "Episode 80\tAverage Score: 21.05\n",
      "Episode 90\tAverage Score: 21.41\n",
      "Episode 100\tAverage Score: 21.15\n",
      "Episode 110\tAverage Score: 21.31\n",
      "Episode 120\tAverage Score: 21.71\n",
      "Episode 130\tAverage Score: 21.79\n",
      "Episode 140\tAverage Score: 21.82\n",
      "Episode 150\tAverage Score: 21.79\n",
      "Episode 160\tAverage Score: 21.98\n",
      "Episode 170\tAverage Score: 22.55\n",
      "Episode 180\tAverage Score: 22.54\n",
      "Episode 190\tAverage Score: 22.16\n",
      "Episode 200\tAverage Score: 22.39\n",
      "Episode 210\tAverage Score: 21.11\n",
      "Episode 220\tAverage Score: 20.42\n",
      "Episode 230\tAverage Score: 20.32\n",
      "Episode 240\tAverage Score: 20.72\n",
      "Episode 250\tAverage Score: 19.76\n",
      "Episode 260\tAverage Score: 19.31\n",
      "Episode 270\tAverage Score: 19.26\n",
      "Episode 280\tAverage Score: 18.79\n",
      "Episode 290\tAverage Score: 18.28\n",
      "Episode 300\tAverage Score: 18.90\n",
      "Episode 310\tAverage Score: 19.25\n",
      "Episode 320\tAverage Score: 19.40\n",
      "Episode 330\tAverage Score: 19.22\n",
      "Episode 340\tAverage Score: 18.60\n",
      "Episode 350\tAverage Score: 19.05\n",
      "Episode 360\tAverage Score: 19.01\n",
      "Episode 370\tAverage Score: 18.89\n",
      "Episode 380\tAverage Score: 18.92\n",
      "Episode 390\tAverage Score: 18.93\n",
      "Episode 400\tAverage Score: 17.39\n",
      "Episode 410\tAverage Score: 17.14\n",
      "Episode 420\tAverage Score: 16.57\n",
      "Episode 430\tAverage Score: 16.24\n",
      "Episode 440\tAverage Score: 16.39\n",
      "Episode 450\tAverage Score: 16.00\n",
      "Episode 460\tAverage Score: 15.82\n",
      "Episode 470\tAverage Score: 15.44\n",
      "Episode 480\tAverage Score: 14.90\n",
      "Episode 490\tAverage Score: 14.83\n",
      "Episode 500\tAverage Score: 15.00\n",
      "Episode 510\tAverage Score: 15.09\n",
      "Episode 520\tAverage Score: 15.04\n",
      "Episode 530\tAverage Score: 15.42\n",
      "Episode 540\tAverage Score: 15.15\n",
      "Episode 550\tAverage Score: 15.10\n",
      "Episode 560\tAverage Score: 14.90\n",
      "Episode 570\tAverage Score: 15.00\n",
      "Episode 580\tAverage Score: 15.58\n",
      "Episode 590\tAverage Score: 15.49\n",
      "Episode 600\tAverage Score: 15.85\n",
      "Episode 610\tAverage Score: 15.60\n",
      "Episode 620\tAverage Score: 15.75\n",
      "Episode 630\tAverage Score: 15.16\n",
      "Episode 640\tAverage Score: 15.52\n",
      "Episode 650\tAverage Score: 15.20\n",
      "Episode 660\tAverage Score: 15.11\n",
      "Episode 670\tAverage Score: 14.72\n",
      "Episode 680\tAverage Score: 14.48\n",
      "Episode 690\tAverage Score: 14.53\n",
      "Episode 700\tAverage Score: 14.37\n",
      "Episode 710\tAverage Score: 14.34\n",
      "Episode 720\tAverage Score: 14.27\n",
      "Episode 730\tAverage Score: 14.43\n",
      "Episode 740\tAverage Score: 13.88\n",
      "Episode 750\tAverage Score: 14.06\n",
      "Episode 760\tAverage Score: 14.23\n",
      "Episode 770\tAverage Score: 14.04\n",
      "Episode 780\tAverage Score: 13.93\n",
      "Episode 790\tAverage Score: 13.61\n",
      "Episode 800\tAverage Score: 13.39\n",
      "Episode 810\tAverage Score: 13.17\n",
      "Episode 820\tAverage Score: 12.98\n",
      "Episode 830\tAverage Score: 12.84\n",
      "Episode 840\tAverage Score: 12.74\n",
      "Episode 850\tAverage Score: 12.99\n",
      "Episode 860\tAverage Score: 12.91\n",
      "Episode 870\tAverage Score: 12.96\n",
      "Episode 880\tAverage Score: 12.71\n",
      "Episode 890\tAverage Score: 12.97\n",
      "Episode 900\tAverage Score: 12.89\n",
      "Episode 910\tAverage Score: 13.01\n",
      "Episode 920\tAverage Score: 13.10\n",
      "Episode 930\tAverage Score: 13.16\n",
      "Episode 940\tAverage Score: 13.16\n",
      "Episode 950\tAverage Score: 12.81\n",
      "Episode 960\tAverage Score: 12.61\n",
      "Episode 970\tAverage Score: 12.61\n",
      "Episode 980\tAverage Score: 12.52\n",
      "Episode 990\tAverage Score: 12.32\n",
      "Episode 1000\tAverage Score: 12.33\n",
      "Episode 1010\tAverage Score: 12.34\n",
      "Episode 1020\tAverage Score: 12.19\n",
      "Episode 1030\tAverage Score: 12.14\n",
      "Episode 1040\tAverage Score: 12.15\n",
      "Episode 1050\tAverage Score: 12.11\n",
      "Episode 1060\tAverage Score: 12.07\n",
      "Episode 1070\tAverage Score: 11.93\n",
      "Episode 1080\tAverage Score: 12.06\n",
      "Episode 1090\tAverage Score: 11.95\n",
      "Episode 1100\tAverage Score: 11.97\n",
      "Episode 1110\tAverage Score: 11.86\n",
      "Episode 1120\tAverage Score: 11.72\n",
      "Episode 1130\tAverage Score: 11.58\n",
      "Episode 1140\tAverage Score: 11.58\n",
      "Episode 1150\tAverage Score: 11.60\n",
      "Episode 1160\tAverage Score: 11.63\n",
      "Episode 1170\tAverage Score: 11.58\n",
      "Episode 1180\tAverage Score: 11.47\n",
      "Episode 1190\tAverage Score: 11.51\n",
      "Episode 1200\tAverage Score: 11.36\n",
      "Episode 1210\tAverage Score: 11.37\n",
      "Episode 1220\tAverage Score: 11.31\n",
      "Episode 1230\tAverage Score: 11.29\n",
      "Episode 1240\tAverage Score: 11.10\n",
      "Episode 1250\tAverage Score: 11.07\n",
      "Episode 1260\tAverage Score: 11.08\n",
      "Episode 1270\tAverage Score: 11.28\n",
      "Episode 1280\tAverage Score: 11.14\n",
      "Episode 1290\tAverage Score: 11.06\n",
      "Episode 1300\tAverage Score: 11.02\n",
      "Episode 1310\tAverage Score: 10.92\n",
      "Episode 1320\tAverage Score: 11.03\n",
      "Episode 1330\tAverage Score: 10.96\n",
      "Episode 1340\tAverage Score: 11.09\n",
      "Episode 1350\tAverage Score: 11.03\n",
      "Episode 1360\tAverage Score: 10.95\n",
      "Episode 1370\tAverage Score: 10.75\n",
      "Episode 1380\tAverage Score: 10.85\n",
      "Episode 1390\tAverage Score: 10.95\n",
      "Episode 1400\tAverage Score: 10.92\n",
      "Episode 1410\tAverage Score: 11.01\n",
      "Episode 1420\tAverage Score: 10.91\n",
      "Episode 1430\tAverage Score: 10.86\n",
      "Episode 1440\tAverage Score: 10.88\n",
      "Episode 1450\tAverage Score: 10.92\n",
      "Episode 1460\tAverage Score: 10.92\n",
      "Episode 1470\tAverage Score: 11.00\n",
      "Episode 1480\tAverage Score: 10.94\n",
      "Episode 1490\tAverage Score: 10.83\n",
      "Episode 1500\tAverage Score: 10.83\n",
      "Episode 1510\tAverage Score: 10.68\n",
      "Episode 1520\tAverage Score: 10.78\n",
      "Episode 1530\tAverage Score: 10.85\n",
      "Episode 1540\tAverage Score: 10.84\n",
      "Episode 1550\tAverage Score: 10.79\n",
      "Episode 1560\tAverage Score: 10.88\n",
      "Episode 1570\tAverage Score: 10.83\n",
      "Episode 1580\tAverage Score: 10.72\n",
      "Episode 1590\tAverage Score: 10.80\n",
      "Episode 1600\tAverage Score: 10.80\n",
      "Episode 1610\tAverage Score: 10.83\n",
      "Episode 1620\tAverage Score: 10.75\n",
      "Episode 1630\tAverage Score: 10.59\n",
      "Episode 1640\tAverage Score: 10.42\n",
      "Episode 1650\tAverage Score: 10.38\n",
      "Episode 1660\tAverage Score: 10.33\n",
      "Episode 1670\tAverage Score: 10.35\n",
      "Episode 1680\tAverage Score: 10.44\n",
      "Episode 1690\tAverage Score: 10.36\n",
      "Episode 1700\tAverage Score: 10.41\n",
      "Episode 1710\tAverage Score: 10.44\n",
      "Episode 1720\tAverage Score: 10.42\n",
      "Episode 1730\tAverage Score: 10.61\n",
      "Episode 1740\tAverage Score: 10.68\n",
      "Episode 1750\tAverage Score: 10.79\n",
      "Episode 1760\tAverage Score: 10.72\n",
      "Episode 1770\tAverage Score: 10.71\n",
      "Episode 1780\tAverage Score: 10.68\n",
      "Episode 1790\tAverage Score: 10.62\n",
      "Episode 1800\tAverage Score: 10.45\n",
      "Episode 1810\tAverage Score: 10.33\n",
      "Episode 1820\tAverage Score: 10.31\n",
      "Episode 1830\tAverage Score: 10.17\n",
      "Episode 1840\tAverage Score: 10.11\n",
      "Episode 1850\tAverage Score: 10.06\n",
      "Episode 1860\tAverage Score: 10.09\n",
      "Episode 1870\tAverage Score: 10.03\n",
      "Episode 1880\tAverage Score: 10.05\n",
      "Episode 1890\tAverage Score: 10.11\n",
      "Episode 1900\tAverage Score: 10.20\n",
      "Episode 1910\tAverage Score: 10.33\n",
      "Episode 1920\tAverage Score: 10.32\n",
      "Episode 1930\tAverage Score: 10.29\n",
      "Episode 1940\tAverage Score: 10.28\n",
      "Episode 1950\tAverage Score: 10.16\n",
      "Episode 1960\tAverage Score: 10.10\n",
      "Episode 1970\tAverage Score: 10.04\n",
      "Episode 1980\tAverage Score: 9.95\n",
      "Episode 1990\tAverage Score: 9.97\n",
      "Episode 2000\tAverage Score: 10.15\n"
     ]
    },
    {
     "data": {
      "image/png": "[encoded data removed]",
      "text/plain": [
       "<Figure size 432x288 with 1 Axes>"
      ]
     },
     "metadata": {
      "needs_background": "light"
     },
     "output_type": "display_data"
    }
   ],
   "source": [
    "from dqn_agent import Agent\n",
    "agent = Agent(state_size=4, action_size=2, seed=42)\n",
    "\n",
    "def dqn(n_episodes=2000, max_t=10000, eps_start=1.0, eps_end=0.01, eps_decay=0.999):\n",
    "    \"\"\"Deep Q-Learning.\n",
    "    \n",
    "    Params\n",
    "    ======\n",
    "        n_episodes (int): maximum number of training episodes\n",
    "        max_t (int): maximum number of timesteps per episode\n",
    "        eps_start (float): starting value of epsilon, for epsilon-greedy action selection\n",
    "        eps_end (float): minimum value of epsilon\n",
    "        eps_decay (float): multiplicative factor (per episode) for decreasing epsilon\n",
    "    \"\"\"\n",
    "    scores = []                        # list containing scores from each episode\n",
    "    scores_window = deque(maxlen=100)  # last 100 scores\n",
    "    eps = eps_start                    # initialize epsilon\n",
    "    for i_episode in range(1, n_episodes+1):\n",
    "        state = env.reset()\n",
    "        score = 0\n",
    "        for t in range(max_t):\n",
    "            action = agent.act(state, eps)\n",
    "            next_state, reward, done, info = env.step(action)\n",
    "            agent.step(state, action, reward, next_state, done)\n",
    "            state = next_state\n",
    "            score += reward\n",
    "            if done:\n",
    "                break \n",
    "        scores_window.append(score)       # save most recent score\n",
    "        scores.append(score)              # save most recent score\n",
    "        eps = max(eps_end, eps_decay*eps) # decrease epsilon\n",
    "#         print('\\rEpisode {}\\tAverage Score: {:.2f}\\n'.format(i_episode, np.mean(scores_window)), end=\"\")\n",
    "        if i_episode % 10 == 0:\n",
    "            print('\\rEpisode {}\\tAverage Score: {:.2f}'.format(i_episode, np.mean(scores_window)))\n",
    "    return scores\n",
    "\n",
    "scores = dqn()\n",
    "\n",
    "# plot the scores\n",
    "fig = plt.figure()\n",
    "ax = fig.add_subplot(111)\n",
    "plt.plot(np.arange(len(scores)), scores)\n",
    "plt.ylabel('Score')\n",
    "plt.xlabel('Episode #')\n",
    "plt.show()"
   ]
  },
  {
   "cell_type": "code",
   "execution_count": 6,
   "metadata": {},
   "outputs": [],
   "source": [
    "n_test_episodes = 10000\n",
    "for i in range(n_test_episodes):\n",
    "    state = env.reset()\n",
    "    done = False\n",
    "    while not done:\n",
    "        env.render()\n",
    "        action = agent.act(state)\n",
    "        state, reward, done, _ = env.step(action)"
   ]
  },
  {
   "cell_type": "code",
   "execution_count": 9,
   "metadata": {},
   "outputs": [],
   "source": [
    "env.close()"
   ]
  },
  {
   "cell_type": "markdown",
   "metadata": {},
   "source": [
    "## Concluding Thoughts\n",
    "\n",
    "To train a well performing model, we most likely need to increase the number of episodes, `n_episodes`, and also increase the number of layers and nodes within each.\n",
    "Furthermore, while DQN was one of the first deep RL algorithms to solve Atari, several advances in the field of RL have developed novel algorithms that outperform DQN.\n",
    "Several of these algorithms are already tailored for use within the RLlib package.\n",
    "\n",
    "`DroneDodgeBall` is a complex environment and will take significant time to solve.\n",
    "Do not be discouraged if you are not getting good training results in a short period of time.\n",
    "\n",
    "Below is an example of a larger model training for a longer period of time."
   ]
  },
  {
   "cell_type": "markdown",
   "metadata": {},
   "source": [
    "__Example Results of a Well Trained Model__\n",
    "\n",
    "The following graph is a training log of a policy-based agent trained over 8 million steps (~60,000 episodes).\n",
    "This training took about 16 hours on the MIT supercomputer.\n",
    "\n",
    "![ray_learned](images/ray_learned.png)\n",
    "\n",
    "It is important to remember that reinforcement learning alogrithms can take an extremely long time to train.\n",
    "DeepMind AlphaStar, one of the most advanced RL algorithms that learned to play Starcraft, took over 46 years worth of training time on TPUv3s, some of the most powerful processors on the planet."
   ]
  },
  {
   "cell_type": "code",
   "execution_count": null,
   "metadata": {},
   "outputs": [],
   "source": []
  }
 ],
 "metadata": {
  "kernelspec": {
   "display_name": "iap_afa",
   "language": "python",
   "name": "iap_afa"
  },
  "language_info": {
   "codemirror_mode": {
    "name": "ipython",
    "version": 3
   },
   "file_extension": ".py",
   "mimetype": "text/x-python",
   "name": "python",
   "nbconvert_exporter": "python",
   "pygments_lexer": "ipython3",
   "version": "3.8.5"
  }
 },
 "nbformat": 4,
 "nbformat_minor": 4
}
